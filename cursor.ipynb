{
 "cells": [
  {
   "cell_type": "markdown",
   "id": "99d19b16",
   "metadata": {},
   "source": [
    "# 1. Introducción a Cursor\n",
    "\n",
    "---\n",
    "\n",
    "## 📋 Descripción del Módulo\n",
    "\n",
    "En este módulo conoceremos los fundamentos de **Cursor**: qué lo hace especial, cómo instalarlo en tu ordenador y cómo realizar la configuración inicial para aprovechar sus características. \n",
    "\n",
    "Al final del módulo habrás:\n",
    "- ✅ Instalado Cursor\n",
    "- ✅ Importado configuraciones si usabas otro editor\n",
    "- ✅ Realizado tu primera interacción básica con la IA del editor\n",
    "\n",
    "---\n",
    "\n",
    "## 🤖 ¿Qué ofrece un entorno de desarrollo asistido por IA?\n",
    "\n",
    "Antes de profundizar en Cursor, conviene entender el contexto de los **entornos de desarrollo asistidos por inteligencia artificial**.\n",
    "\n",
    "### Editores Tradicionales vs. Asistidos por IA\n",
    "\n",
    "**Tradicionalmente**, un IDE o editor de código ofrece ayudas como:\n",
    "- 🎨 Resaltado de sintaxis\n",
    "- ⌨️ Auto-completación básica de código\n",
    "- 🐛 Depurador integrado\n",
    "- 📁 Explorador de archivos\n",
    "\n",
    "**Un IDE asistido por IA** lleva esto mucho más lejos: integra **modelos de lenguaje avanzados** que comprenden el contexto de tu proyecto y permiten interacción en lenguaje natural.\n",
    "\n",
    "### 💡 ¿Qué significa esto en la práctica?\n",
    "\n",
    "Puedes hacer cosas como:\n",
    "\n",
    "---\n",
    "\n",
    "> 💬 **Nota**: Parece que tu texto está incompleto. Si tienes más contenido sobre lo que se puede hacer con Cursor, compártelo y continuaré formateándolo en el mismo estilo profesional y didáctico."
   ]
  },
  {
   "cell_type": "markdown",
   "id": "2046275f",
   "metadata": {},
   "source": []
  },
  {
   "cell_type": "markdown",
   "id": "539387eb",
   "metadata": {},
   "source": []
  }
 ],
 "metadata": {
  "language_info": {
   "name": "python"
  }
 },
 "nbformat": 4,
 "nbformat_minor": 5
}
