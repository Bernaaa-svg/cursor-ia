{
 "cells": [
  {
   "cell_type": "markdown",
   "id": "99d19b16",
   "metadata": {},
   "source": [
    "# 1. Introducción a Cursor\n",
    "\n",
    "---\n",
    "\n",
    "## 📋 Descripción del Módulo\n",
    "\n",
    "En este módulo conoceremos los fundamentos de **Cursor**: qué lo hace especial, cómo instalarlo en tu ordenador y cómo realizar la configuración inicial para aprovechar sus características. \n",
    "\n",
    "Al final del módulo habrás:\n",
    "- ✅ Instalado Cursor\n",
    "- ✅ Importado configuraciones si usabas otro editor\n",
    "- ✅ Realizado tu primera interacción básica con la IA del editor\n",
    "\n",
    "---\n",
    "\n",
    "## 🤖 ¿Qué ofrece un entorno de desarrollo asistido por IA?\n",
    "\n",
    "Antes de profundizar en Cursor, conviene entender el contexto de los **entornos de desarrollo asistidos por inteligencia artificial**.\n",
    "\n",
    "### Editores Tradicionales vs. Asistidos por IA\n",
    "\n",
    "**Tradicionalmente**, un IDE o editor de código ofrece ayudas como:\n",
    "- 🎨 Resaltado de sintaxis\n",
    "- ⌨️ Auto-completación básica de código\n",
    "- 🐛 Depurador integrado\n",
    "- 📁 Explorador de archivos\n",
    "\n",
    "**Un IDE asistido por IA** lleva esto mucho más lejos: integra **modelos de lenguaje avanzados** que comprenden el contexto de tu proyecto y permiten interacción en lenguaje natural.\n",
    "\n",
    "### 💡 ¿Qué significa esto en la práctica?\n",
    "\n",
    "Puedes hacer cosas como:\n",
    "\n",
    "---\n",
    "\n",
    "> 💬 **Nota**: Parece que tu texto está incompleto. Si tienes más contenido sobre lo que se puede hacer con Cursor, compártelo y continuaré formateándolo en el mismo estilo profesional y didáctico."
   ]
  },
  {
   "cell_type": "markdown",
   "id": "539387eb",
   "metadata": {},
   "source": [
    "💡 Capacidades de un IDE con IA\n",
    "🚀 Auto-completación Inteligente\n",
    "El editor predice no solo la siguiente palabra, sino líneas enteras o bloques de código que podrías escribir, adaptándose a tu contexto y estilo.\n",
    "Ejemplo: Comienzas a definir una función y Cursor puede sugerir automáticamente una implementación completa si es algo común.\n",
    "\n",
    "🔍 Detección de Errores y Mejores Prácticas\n",
    "La IA puede señalar posibles errores o malas prácticas en tu código y sugerir correcciones automáticamente. Esto complementa a las típicas inspecciones estáticas de los IDEs tradicionales.\n",
    "\n",
    "💬 Edición mediante Lenguaje Natural\n",
    "Puedes indicarle al editor con una frase lo que quieres que el código haga o cómo modificar un fragmento existente. El modelo IA entenderá la instrucción y generará el código o cambio solicitado.\n",
    "Es como decirle a un compañero \"haz que esta función sea más eficiente\" y que él la reescriba por ti.\n",
    "\n",
    "🧪 Generación de Tests y Refactorización\n",
    "Puedes pedirle que escriba casos de prueba para tu función, o que refactore (restructure) tu código para mejorar su legibilidad o eficiencia, todo mediante indicaciones en lenguaje natural.\n",
    "\n",
    "📖 Explicación y Documentación de Código\n",
    "Seleccionando una porción de código, puedes preguntar \"¿qué hace este código?\" y obtendrás una explicación al vuelo. También puede ayudar a documentar, generando comentarios o docstrings claros para tus funciones.\n",
    "\n",
    "🎯 Navegación Semántica del Proyecto\n",
    "En un proyecto grande, en lugar de usar solo búsqueda textual, puedes preguntarle a la IA \"¿Dónde se calcula la dirección de navegación en este proyecto?\" y Cursor localizará la función o archivo relevante.\n",
    "Tiene entendimiento semántico, no solo textual, del código."
   ]
  },
  {
   "cell_type": "markdown",
   "id": "5cc79edf",
   "metadata": {},
   "source": []
  }
 ],
 "metadata": {
  "language_info": {
   "name": "python"
  }
 },
 "nbformat": 4,
 "nbformat_minor": 5
}
